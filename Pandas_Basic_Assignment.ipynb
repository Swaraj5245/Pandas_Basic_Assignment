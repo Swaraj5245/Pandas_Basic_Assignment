{
 "cells": [
  {
   "cell_type": "markdown",
   "metadata": {},
   "source": [
    "### Q1. Create a Pandas Series that contains the following data: 4, 8, 15, 16, 23, and 42. Then, print the series."
   ]
  },
  {
   "cell_type": "markdown",
   "metadata": {},
   "source": [
    "creating a list which contain the data"
   ]
  },
  {
   "cell_type": "code",
   "execution_count": 11,
   "metadata": {},
   "outputs": [],
   "source": [
    "data=[4,8,15,16,23,42]"
   ]
  },
  {
   "cell_type": "markdown",
   "metadata": {},
   "source": [
    "creating a *Pandas Series* and printing it's elements"
   ]
  },
  {
   "cell_type": "code",
   "execution_count": 12,
   "metadata": {},
   "outputs": [
    {
     "name": "stdout",
     "output_type": "stream",
     "text": [
      "0     4\n",
      "1     8\n",
      "2    15\n",
      "3    16\n",
      "4    23\n",
      "5    42\n",
      "dtype: int64\n"
     ]
    }
   ],
   "source": [
    "import pandas as pd\n",
    "series=pd.Series(data)\n",
    "print(series)"
   ]
  },
  {
   "cell_type": "markdown",
   "metadata": {},
   "source": [
    "### Q2. Create a variable of list type containing 10 elements in it, and apply pandas.Series function on the variable print it."
   ]
  },
  {
   "cell_type": "markdown",
   "metadata": {},
   "source": [
    "**creating a variable of list type which contian the 10 contries name as list element**"
   ]
  },
  {
   "cell_type": "code",
   "execution_count": 13,
   "metadata": {},
   "outputs": [],
   "source": [
    "contries_list=['India','China','US','Finland','Germany','Denmark','Franch','Thailand','Singapore','Australia']"
   ]
  },
  {
   "cell_type": "markdown",
   "metadata": {},
   "source": [
    "For applying *pandas.Series* function to the list variable **contries_list**"
   ]
  },
  {
   "cell_type": "code",
   "execution_count": 14,
   "metadata": {},
   "outputs": [
    {
     "name": "stdout",
     "output_type": "stream",
     "text": [
      "0        India\n",
      "1        China\n",
      "2           US\n",
      "3      Finland\n",
      "4      Germany\n",
      "5      Denmark\n",
      "6       Franch\n",
      "7     Thailand\n",
      "8    Singapore\n",
      "9    Australia\n",
      "dtype: object\n"
     ]
    }
   ],
   "source": [
    "contries=pd.Series(contries_list)\n",
    "\n",
    "print(contries)"
   ]
  },
  {
   "cell_type": "markdown",
   "metadata": {},
   "source": [
    "### Q3. Create a Pandas DataFrame that contains the following data:"
   ]
  },
  {
   "cell_type": "code",
   "execution_count": 15,
   "metadata": {},
   "outputs": [],
   "source": [
    "data1={\n",
    "           'Name':['Alice','Bob','Claire'],\n",
    "           'Age':[25,30,27],\n",
    "           'Gender':['Female','Male','Female']\n",
    "           }"
   ]
  },
  {
   "cell_type": "code",
   "execution_count": 16,
   "metadata": {},
   "outputs": [],
   "source": [
    "dataframe=pd.DataFrame(data1)"
   ]
  },
  {
   "cell_type": "code",
   "execution_count": 17,
   "metadata": {},
   "outputs": [
    {
     "name": "stdout",
     "output_type": "stream",
     "text": [
      "     Name  Age  Gender\n",
      "0   Alice   25  Female\n",
      "1     Bob   30    Male\n",
      "2  Claire   27  Female\n"
     ]
    }
   ],
   "source": [
    "print(dataframe)"
   ]
  },
  {
   "cell_type": "markdown",
   "metadata": {},
   "source": [
    "### Q4. What is ‘DataFrame’ in pandas and how is it different from pandas.series? Explain with an example."
   ]
  },
  {
   "cell_type": "markdown",
   "metadata": {},
   "source": [
    "In Pandas **DataFrame** is a Two-Dimentional data structure, it hold's data of multiple type's like int,string,boolean,list. it hold's data in a Tabular Format like a Sql, in a Row's and column's.  \n",
    "where's the **pandas.series** is a one dimentional data strucure , it hold's data of multiple type's like int,string ,boolean, list. it hold's data like element's in list, array and the data of one column\n",
    "\n",
    "#### Example:\n",
    "opening a random file of a DataFrame type and extracting a data from it using padas function pandas.Series"
   ]
  },
  {
   "cell_type": "code",
   "execution_count": 21,
   "metadata": {},
   "outputs": [
    {
     "name": "stdout",
     "output_type": "stream",
     "text": [
      "<class 'pandas.core.frame.DataFrame'>\n",
      "  Month   \"Average\"   \"2005\"   \"2006\"   \"2007\"   \"2008\"   \"2009\"   \"2010\"  \\\n",
      "0   May         0.1        0        0        1        1        0        0   \n",
      "1   Jun         0.5        2        1        1        0        0        1   \n",
      "2   Jul         0.7        5        1        1        2        0        1   \n",
      "3   Aug         2.3        6        3        2        4        4        4   \n",
      "4   Sep         3.5        6        4        7        4        2        8   \n",
      "5   Oct         2.0        8        0        1        3        2        5   \n",
      "6   Nov         0.5        3        0        0        1        1        0   \n",
      "7   Dec         0.0        1        0        1        0        0        0   \n",
      "\n",
      "    \"2011\"   \"2012\"   \"2013\"   \"2014\"   \"2015\"  \n",
      "0        0        2        0        0        0  \n",
      "1        1        2        2        0        1  \n",
      "2        3        0        2        2        1  \n",
      "3        7        8        2        2        3  \n",
      "4        5        2        5        2        5  \n",
      "5        1        5        2        3        0  \n",
      "6        1        0        1        0        1  \n",
      "7        0        0        0        0        1  \n"
     ]
    }
   ],
   "source": [
    "file=pd.read_csv('sample1.csv')\n",
    "print(type(file))\n",
    "print(file)"
   ]
  },
  {
   "cell_type": "markdown",
   "metadata": {},
   "source": [
    "**Extracting data in a series from the dataframe**"
   ]
  },
  {
   "cell_type": "code",
   "execution_count": 22,
   "metadata": {},
   "outputs": [
    {
     "data": {
      "text/plain": [
       "0    0.1\n",
       "1    0.5\n",
       "2    0.7\n",
       "3    2.3\n",
       "4    3.5\n",
       "5    2.0\n",
       "6    0.5\n",
       "7    0.0\n",
       "Name:  \"Average\", dtype: float64"
      ]
     },
     "execution_count": 22,
     "metadata": {},
     "output_type": "execute_result"
    }
   ],
   "source": [
    "file[' \"Average\"']"
   ]
  },
  {
   "cell_type": "markdown",
   "metadata": {},
   "source": [
    "### Q5. What are some common functions you can use to manipulate data in a Pandas DataFrame? Can you give an example of when you might use one of these functions"
   ]
  },
  {
   "cell_type": "code",
   "execution_count": null,
   "metadata": {},
   "outputs": [],
   "source": []
  },
  {
   "cell_type": "markdown",
   "metadata": {},
   "source": [
    "### Q6. Which of the following is mutable in nature Series, DataFrame, Panel?"
   ]
  },
  {
   "cell_type": "code",
   "execution_count": null,
   "metadata": {},
   "outputs": [],
   "source": []
  },
  {
   "cell_type": "markdown",
   "metadata": {},
   "source": [
    "### Q7. Create a DataFrame using multiple Series. Explain with an example."
   ]
  },
  {
   "cell_type": "code",
   "execution_count": null,
   "metadata": {},
   "outputs": [],
   "source": []
  }
 ],
 "metadata": {
  "kernelspec": {
   "display_name": "Python 3",
   "language": "python",
   "name": "python3"
  },
  "language_info": {
   "codemirror_mode": {
    "name": "ipython",
    "version": 3
   },
   "file_extension": ".py",
   "mimetype": "text/x-python",
   "name": "python",
   "nbconvert_exporter": "python",
   "pygments_lexer": "ipython3",
   "version": "3.11.6"
  }
 },
 "nbformat": 4,
 "nbformat_minor": 2
}
